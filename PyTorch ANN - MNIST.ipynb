{
 "cells": [
  {
   "cell_type": "code",
   "execution_count": 2,
   "id": "af76f196",
   "metadata": {},
   "outputs": [],
   "source": [
    "import torch\n",
    "import torch.nn as nn\n",
    "import torch.nn.functional as F          # adds some efficiency\n",
    "from torch.utils.data import DataLoader  # lets us load data in batches\n",
    "from torchvision import datasets, transforms\n",
    "\n",
    "import numpy as np\n",
    "import pandas as pd\n",
    "from sklearn.metrics import confusion_matrix  # for evaluating results\n",
    "import matplotlib.pyplot as plt\n",
    "%matplotlib inline"
   ]
  },
  {
   "cell_type": "code",
   "execution_count": 3,
   "id": "22f904f3",
   "metadata": {},
   "outputs": [],
   "source": [
    "transform = transforms.ToTensor()\n",
    "train_data = datasets.MNIST(root=\"./\",download=True, train=True, transform=transform)"
   ]
  },
  {
   "cell_type": "code",
   "execution_count": 4,
   "id": "b1996aed",
   "metadata": {},
   "outputs": [],
   "source": [
    "test_data = datasets.MNIST(root=\"./\",download=True, train=False, transform=transform)"
   ]
  },
  {
   "cell_type": "code",
   "execution_count": 5,
   "id": "0941bf1b",
   "metadata": {},
   "outputs": [
    {
     "data": {
      "text/plain": [
       "Dataset MNIST\n",
       "    Number of datapoints: 60000\n",
       "    Split: train\n",
       "    Root Location: ./\n",
       "    Transforms (if any): ToTensor()\n",
       "    Target Transforms (if any): None"
      ]
     },
     "execution_count": 5,
     "metadata": {},
     "output_type": "execute_result"
    }
   ],
   "source": [
    "train_data"
   ]
  },
  {
   "cell_type": "code",
   "execution_count": 6,
   "id": "e80e38df",
   "metadata": {},
   "outputs": [
    {
     "data": {
      "text/plain": [
       "Dataset MNIST\n",
       "    Number of datapoints: 10000\n",
       "    Split: test\n",
       "    Root Location: ./\n",
       "    Transforms (if any): ToTensor()\n",
       "    Target Transforms (if any): None"
      ]
     },
     "execution_count": 6,
     "metadata": {},
     "output_type": "execute_result"
    }
   ],
   "source": [
    "test_data"
   ]
  },
  {
   "cell_type": "code",
   "execution_count": 7,
   "id": "17f6bf52",
   "metadata": {},
   "outputs": [],
   "source": [
    "image, label = train_data[0]"
   ]
  },
  {
   "cell_type": "code",
   "execution_count": 8,
   "id": "c79e7345",
   "metadata": {},
   "outputs": [
    {
     "data": {
      "text/plain": [
       "torch.Size([1, 28, 28])"
      ]
     },
     "execution_count": 8,
     "metadata": {},
     "output_type": "execute_result"
    }
   ],
   "source": [
    "image.shape"
   ]
  },
  {
   "cell_type": "code",
   "execution_count": 9,
   "id": "8d5e023b",
   "metadata": {},
   "outputs": [
    {
     "data": {
      "text/plain": [
       "5"
      ]
     },
     "execution_count": 9,
     "metadata": {},
     "output_type": "execute_result"
    }
   ],
   "source": [
    "label"
   ]
  },
  {
   "cell_type": "code",
   "execution_count": 12,
   "id": "8659935d",
   "metadata": {},
   "outputs": [
    {
     "data": {
      "text/plain": [
       "<matplotlib.image.AxesImage at 0x7fe81c025ef0>"
      ]
     },
     "execution_count": 12,
     "metadata": {},
     "output_type": "execute_result"
    },
    {
     "data": {
      "image/png": "[encoded data removed]",
      "text/plain": [
       "<Figure size 432x288 with 1 Axes>"
      ]
     },
     "metadata": {
      "needs_background": "light"
     },
     "output_type": "display_data"
    }
   ],
   "source": [
    "plt.imshow(image.reshape(28, 28), cmap=\"gist_yarg\") # default cmap=\"viridis\""
   ]
  },
  {
   "cell_type": "code",
   "execution_count": 30,
   "id": "8a3b5d7b",
   "metadata": {},
   "outputs": [],
   "source": [
    "torch.manual_seed(101) # Random Shuffle\n",
    "train_loader = DataLoader(train_data, batch_size=100, shuffle=True)\n",
    "test_loader = DataLoader(test_data, batch_size=500, shuffle=False)"
   ]
  },
  {
   "cell_type": "code",
   "execution_count": 15,
   "id": "111fde91",
   "metadata": {},
   "outputs": [],
   "source": [
    "from torchvision.utils import make_grid\n",
    "np.set_printoptions(formatter=dict(int=lambda x: f'{x:4}')) # to widen the printed array\n",
    "\n",
    "for images, labels in train_loader:\n",
    "    break"
   ]
  },
  {
   "cell_type": "code",
   "execution_count": 16,
   "id": "693d57ec",
   "metadata": {},
   "outputs": [
    {
     "data": {
      "text/plain": [
       "torch.Size([100, 1, 28, 28])"
      ]
     },
     "execution_count": 16,
     "metadata": {},
     "output_type": "execute_result"
    }
   ],
   "source": [
    "images.shape"
   ]
  },
  {
   "cell_type": "code",
   "execution_count": 17,
   "id": "c08293e9",
   "metadata": {},
   "outputs": [
    {
     "name": "stdout",
     "output_type": "stream",
     "text": [
      "Labels:  [   0    5    7    8    6    7    9    7    1    3    8    4]\n"
     ]
    },
    {
     "data": {
      "image/png": "[encoded data removed]",
      "text/plain": [
       "<Figure size 720x288 with 1 Axes>"
      ]
     },
     "metadata": {
      "needs_background": "light"
     },
     "output_type": "display_data"
    }
   ],
   "source": [
    "# Print the first 12 labels\n",
    "print('Labels: ', labels[:12].numpy())\n",
    "\n",
    "# Print the first 12 images\n",
    "im = make_grid(images[:12], nrow=12)  # the default nrow is 8\n",
    "plt.figure(figsize=(10,4))\n",
    "# We need to transpose the images from CWH to WHC\n",
    "plt.imshow(np.transpose(im.numpy(), (1, 2, 0)));"
   ]
  },
  {
   "cell_type": "code",
   "execution_count": 19,
   "id": "d04d78e8",
   "metadata": {},
   "outputs": [],
   "source": [
    "class MultilayerPerceptron(nn.Module):\n",
    "    def __init__(self, in_sz=784, out_sz=10, layers=[120, 84]):\n",
    "        super().__init__()\n",
    "        self.fc1 = nn.Linear(in_sz, layers[0])\n",
    "        self.fc2 = nn.Linear(layers[0], layers[1])\n",
    "        self.fc3 = nn.Linear(layers[1], out_sz)\n",
    "        \n",
    "    def forward(self, X):\n",
    "        X = F.relu(self.fc1(X)) # Activation Fn\n",
    "        X = F.relu(self.fc2(X)) \n",
    "        X = self.fc3(X) \n",
    "        \n",
    "        return F.log_softmax(X, dim=1) # Multi-class "
   ]
  },
  {
   "cell_type": "code",
   "execution_count": 20,
   "id": "f90bdab7",
   "metadata": {},
   "outputs": [],
   "source": [
    "torch.manual_seed(101)\n",
    "model = MultilayerPerceptron()"
   ]
  },
  {
   "cell_type": "code",
   "execution_count": 21,
   "id": "9b112429",
   "metadata": {},
   "outputs": [
    {
     "data": {
      "text/plain": [
       "MultilayerPerceptron(\n",
       "  (fc1): Linear(in_features=784, out_features=120, bias=True)\n",
       "  (fc2): Linear(in_features=120, out_features=84, bias=True)\n",
       "  (fc3): Linear(in_features=84, out_features=10, bias=True)\n",
       ")"
      ]
     },
     "execution_count": 21,
     "metadata": {},
     "output_type": "execute_result"
    }
   ],
   "source": [
    "model"
   ]
  },
  {
   "cell_type": "code",
   "execution_count": 22,
   "id": "c566fcd5",
   "metadata": {},
   "outputs": [
    {
     "name": "stdout",
     "output_type": "stream",
     "text": [
      "94080\n",
      "120\n",
      "10080\n",
      "84\n",
      "840\n",
      "10\n"
     ]
    }
   ],
   "source": [
    "# Current \"ANN\" => Later \"CNN\"\n",
    "for param in model.parameters():\n",
    "    print(param.numel()) # Count how many params\n",
    "    # 105,214 in total"
   ]
  },
  {
   "cell_type": "code",
   "execution_count": 25,
   "id": "42e73cc3",
   "metadata": {},
   "outputs": [
    {
     "data": {
      "text/plain": [
       "tensor([[0., 0., 0.,  ..., 0., 0., 0.],\n",
       "        [0., 0., 0.,  ..., 0., 0., 0.],\n",
       "        [0., 0., 0.,  ..., 0., 0., 0.],\n",
       "        ...,\n",
       "        [0., 0., 0.,  ..., 0., 0., 0.],\n",
       "        [0., 0., 0.,  ..., 0., 0., 0.],\n",
       "        [0., 0., 0.,  ..., 0., 0., 0.]])"
      ]
     },
     "execution_count": 25,
     "metadata": {},
     "output_type": "execute_result"
    }
   ],
   "source": [
    "criterion = nn.CrossEntropyLoss()\n",
    "optimizer = torch.optim.Adam(model.parameters(), lr=0.001)\n",
    "images.view(100, -1) # Means [100, 1, 28, 28] => [100, 784]"
   ]
  },
  {
   "cell_type": "code",
   "execution_count": 38,
   "id": "a20ca6ef",
   "metadata": {},
   "outputs": [
    {
     "name": "stdout",
     "output_type": "stream",
     "text": [
      "epoch:  0  batch:  200 [ 20000/60000]  loss: 0.01074876 accuracy:  99.640%\n",
      "epoch:  0  batch:  400 [ 40000/60000]  loss: 0.00258396 accuracy:  99.627%\n",
      "epoch:  0  batch:  600 [ 60000/60000]  loss: 0.03405758 accuracy:  99.525%\n",
      "epoch:  1  batch:  200 [ 20000/60000]  loss: 0.00734695 accuracy:  99.625%\n",
      "epoch:  1  batch:  400 [ 40000/60000]  loss: 0.00500208 accuracy:  99.515%\n",
      "epoch:  1  batch:  600 [ 60000/60000]  loss: 0.01757078 accuracy:  99.472%\n",
      "epoch:  2  batch:  200 [ 20000/60000]  loss: 0.00364725 accuracy:  99.635%\n",
      "epoch:  2  batch:  400 [ 40000/60000]  loss: 0.01025984 accuracy:  99.642%\n",
      "epoch:  2  batch:  600 [ 60000/60000]  loss: 0.01754833 accuracy:  99.630%\n",
      "epoch:  3  batch:  200 [ 20000/60000]  loss: 0.01980995 accuracy:  99.620%\n",
      "epoch:  3  batch:  400 [ 40000/60000]  loss: 0.02789734 accuracy:  99.585%\n",
      "epoch:  3  batch:  600 [ 60000/60000]  loss: 0.01464937 accuracy:  99.568%\n",
      "epoch:  4  batch:  200 [ 20000/60000]  loss: 0.00082234 accuracy:  99.825%\n",
      "epoch:  4  batch:  400 [ 40000/60000]  loss: 0.00121892 accuracy:  99.707%\n",
      "epoch:  4  batch:  600 [ 60000/60000]  loss: 0.00824176 accuracy:  99.725%\n",
      "epoch:  5  batch:  200 [ 20000/60000]  loss: 0.02943674 accuracy:  99.635%\n",
      "epoch:  5  batch:  400 [ 40000/60000]  loss: 0.00319802 accuracy:  99.705%\n",
      "epoch:  5  batch:  600 [ 60000/60000]  loss: 0.02990642 accuracy:  99.668%\n",
      "epoch:  6  batch:  200 [ 20000/60000]  loss: 0.01115911 accuracy:  99.730%\n",
      "epoch:  6  batch:  400 [ 40000/60000]  loss: 0.00459977 accuracy:  99.763%\n",
      "epoch:  6  batch:  600 [ 60000/60000]  loss: 0.02347119 accuracy:  99.787%\n",
      "epoch:  7  batch:  200 [ 20000/60000]  loss: 0.01673110 accuracy:  99.715%\n",
      "epoch:  7  batch:  400 [ 40000/60000]  loss: 0.02483183 accuracy:  99.593%\n",
      "epoch:  7  batch:  600 [ 60000/60000]  loss: 0.00017994 accuracy:  99.573%\n",
      "epoch:  8  batch:  200 [ 20000/60000]  loss: 0.00518689 accuracy:  99.805%\n",
      "epoch:  8  batch:  400 [ 40000/60000]  loss: 0.00236107 accuracy:  99.735%\n",
      "epoch:  8  batch:  600 [ 60000/60000]  loss: 0.01962464 accuracy:  99.713%\n",
      "epoch:  9  batch:  200 [ 20000/60000]  loss: 0.00041874 accuracy:  99.835%\n",
      "epoch:  9  batch:  400 [ 40000/60000]  loss: 0.00688692 accuracy:  99.810%\n",
      "epoch:  9  batch:  600 [ 60000/60000]  loss: 0.00151067 accuracy:  99.755%\n",
      "Duration: 1.0907027840614318 mins\n"
     ]
    }
   ],
   "source": [
    "import time\n",
    "start_time = time.time()\n",
    "\n",
    "epochs = 10\n",
    "# Mainly for visualization\n",
    "train_losses = []\n",
    "test_losses = []\n",
    "train_corrects = []\n",
    "test_corrects = []\n",
    "\n",
    "for i in range(epochs):\n",
    "    trn_corr = 0\n",
    "    tst_corr = 0\n",
    "    \n",
    "    # X_train => Images; y_train => Labels\n",
    "    for b, (X_train, y_train) in enumerate(train_loader):\n",
    "        b = b + 1\n",
    "        # 10 Neurons => [0.1, 0.6, 0.2, ...]\n",
    "        y_pred = model(X_train.view(100, -1))\n",
    "        loss = criterion(y_pred, y_train)\n",
    "        \n",
    "        predicted = torch.max(y_pred, 1)[1]\n",
    "        batch_corr = (predicted == y_train).sum()\n",
    "        trn_corr += batch_corr\n",
    "        \n",
    "        # Update parameters\n",
    "        optimizer.zero_grad()\n",
    "        loss.backward()\n",
    "        optimizer.step()\n",
    "        \n",
    "        if b%200 == 0:\n",
    "            print(f'epoch: {i:2}  batch: {b:4} [{100*b:6}/60000]  loss: {loss.item():10.8f} accuracy: {trn_corr.item()*100/(100*b):7.3f}%')\n",
    "\n",
    "     # Update train loss & accuracy for the epoch\n",
    "    train_losses.append(loss)\n",
    "    train_corrects.append(trn_corr)\n",
    "    \n",
    "    with torch.no_grad():\n",
    "        for b, (X_test, y_test) in enumerate(test_loader):\n",
    "\n",
    "            # Apply the model\n",
    "            y_val = model(X_test.view(500, -1))  # Here we flatten X_test\n",
    "\n",
    "            # Tally the number of correct predictions\n",
    "            predicted = torch.max(y_val.data, 1)[1] \n",
    "            tst_corr += (predicted == y_test).sum()\n",
    "    # Update test loss & accuracy for the epoch\n",
    "    loss = criterion(y_val, y_test)\n",
    "    test_losses.append(loss)\n",
    "    test_corrects.append(tst_corr)\n",
    "\n",
    "total_time = time.time() - start_time\n",
    "print(f'Duration: {total_time / 60} mins')"
   ]
  },
  {
   "cell_type": "code",
   "execution_count": 39,
   "id": "1c319d7b",
   "metadata": {},
   "outputs": [
    {
     "data": {
      "image/png": "[encoded data removed]",
      "text/plain": [
       "<Figure size 432x288 with 1 Axes>"
      ]
     },
     "metadata": {
      "needs_background": "light"
     },
     "output_type": "display_data"
    }
   ],
   "source": [
    "plt.plot(train_losses, label='training loss')\n",
    "plt.plot(test_losses, label='validation loss')\n",
    "plt.title('Loss at the end of each epoch')\n",
    "plt.legend();"
   ]
  },
  {
   "cell_type": "code",
   "execution_count": 40,
   "id": "170d5422",
   "metadata": {},
   "outputs": [
    {
     "data": {
      "image/png": "[encoded data removed]",
      "text/plain": [
       "<Figure size 432x288 with 1 Axes>"
      ]
     },
     "metadata": {
      "needs_background": "light"
     },
     "output_type": "display_data"
    }
   ],
   "source": [
    "plt.plot([t/600 for t in train_corrects], label='training accuracy')\n",
    "plt.plot([t/100 for t in test_corrects], label='validation accuracy')\n",
    "plt.title('Accuracy at the end of each epoch')\n",
    "plt.legend();"
   ]
  },
  {
   "cell_type": "code",
   "execution_count": 41,
   "id": "b4b1c85e",
   "metadata": {},
   "outputs": [],
   "source": [
    "# Extract the data all at once, not in batches\n",
    "test_load_all = DataLoader(test_data, batch_size=10000, shuffle=False)"
   ]
  },
  {
   "cell_type": "code",
   "execution_count": 42,
   "id": "086f634e",
   "metadata": {},
   "outputs": [
    {
     "name": "stdout",
     "output_type": "stream",
     "text": [
      "Test accuracy: 9744/10000 =  97.440%\n"
     ]
    }
   ],
   "source": [
    "with torch.no_grad():\n",
    "    correct = 0\n",
    "    for X_test, y_test in test_load_all:\n",
    "        y_val = model(X_test.view(len(X_test), -1))  # pass in a flattened view of X_test\n",
    "        predicted = torch.max(y_val,1)[1]\n",
    "        correct += (predicted == y_test).sum()\n",
    "print(f'Test accuracy: {correct.item()}/{len(test_data)} = {correct.item()*100/(len(test_data)):7.3f}%')"
   ]
  },
  {
   "cell_type": "code",
   "execution_count": 43,
   "id": "3e422723",
   "metadata": {},
   "outputs": [
    {
     "name": "stdout",
     "output_type": "stream",
     "text": [
      "[[   0    1    2    3    4    5    6    7    8    9]]\n",
      "\n",
      "[[ 970    0    3    0    0    1    2    1    4    0]\n",
      " [   1 1126    3    0    1    0    2    7    2    2]\n",
      " [   1    3 1005    5    2    0    0   10    2    1]\n",
      " [   1    1    6  973    1    3    1    1    2    4]\n",
      " [   0    0    2    0  939    2    0    5    3   11]\n",
      " [   1    0    1   17    2  878    6    2   11   10]\n",
      " [   3    3    6    1   26    5  947    0    6    2]\n",
      " [   2    0    2    2    2    1    0  996    3    2]\n",
      " [   1    2    4    5    1    1    0    2  937    4]\n",
      " [   0    0    0    7    8    1    0    4    4  973]]\n"
     ]
    }
   ],
   "source": [
    "# print a row of values for reference\n",
    "np.set_printoptions(formatter=dict(int=lambda x: f'{x:4}'))\n",
    "print(np.arange(10).reshape(1,10))\n",
    "print()\n",
    "\n",
    "# print the confusion matrix\n",
    "print(confusion_matrix(predicted.view(-1), y_test.view(-1)))"
   ]
  },
  {
   "cell_type": "code",
   "execution_count": null,
   "id": "d11cec09",
   "metadata": {},
   "outputs": [],
   "source": []
  }
 ],
 "metadata": {
  "kernelspec": {
   "display_name": "ann",
   "language": "python",
   "name": "ann"
  },
  "language_info": {
   "codemirror_mode": {
    "name": "ipython",
    "version": 3
   },
   "file_extension": ".py",
   "mimetype": "text/x-python",
   "name": "python",
   "nbconvert_exporter": "python",
   "pygments_lexer": "ipython3",
   "version": "3.7.3"
  }
 },
 "nbformat": 4,
 "nbformat_minor": 5
}
