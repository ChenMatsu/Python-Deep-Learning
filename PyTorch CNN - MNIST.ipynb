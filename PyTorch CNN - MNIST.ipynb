{
 "cells": [
  {
   "cell_type": "code",
   "execution_count": 1,
   "id": "9580fe44",
   "metadata": {},
   "outputs": [],
   "source": [
    "import torch\n",
    "import torch.nn as nn\n",
    "import torch.nn.functional as F\n",
    "from torch.utils.data import DataLoader\n",
    "from torchvision import datasets, transforms\n",
    "from torchvision.utils import make_grid\n",
    "\n",
    "import numpy as np\n",
    "import pandas as pd\n",
    "from sklearn.metrics import confusion_matrix\n",
    "import matplotlib.pyplot as plt\n",
    "%matplotlib inline"
   ]
  },
  {
   "cell_type": "code",
   "execution_count": 2,
   "id": "de460606",
   "metadata": {},
   "outputs": [],
   "source": [
    "transform = transforms.ToTensor()\n",
    "\n",
    "train_data = datasets.MNIST(root='./', train=True, download=True, transform=transform)\n",
    "test_data = datasets.MNIST(root='./', train=False, download=True, transform=transform)"
   ]
  },
  {
   "cell_type": "code",
   "execution_count": 3,
   "id": "875f9f6b",
   "metadata": {},
   "outputs": [
    {
     "data": {
      "text/plain": [
       "Dataset MNIST\n",
       "    Number of datapoints: 60000\n",
       "    Split: train\n",
       "    Root Location: ./\n",
       "    Transforms (if any): ToTensor()\n",
       "    Target Transforms (if any): None"
      ]
     },
     "execution_count": 3,
     "metadata": {},
     "output_type": "execute_result"
    }
   ],
   "source": [
    "train_data"
   ]
  },
  {
   "cell_type": "code",
   "execution_count": 4,
   "id": "fab183cd",
   "metadata": {},
   "outputs": [
    {
     "data": {
      "text/plain": [
       "Dataset MNIST\n",
       "    Number of datapoints: 10000\n",
       "    Split: test\n",
       "    Root Location: ./\n",
       "    Transforms (if any): ToTensor()\n",
       "    Target Transforms (if any): None"
      ]
     },
     "execution_count": 4,
     "metadata": {},
     "output_type": "execute_result"
    }
   ],
   "source": [
    "test_data"
   ]
  },
  {
   "cell_type": "code",
   "execution_count": 5,
   "id": "e8efd662",
   "metadata": {},
   "outputs": [],
   "source": [
    "train_loader = DataLoader(train_data, batch_size=10, shuffle=True)\n",
    "test_loader = DataLoader(test_data, batch_size=10, shuffle=False)"
   ]
  },
  {
   "cell_type": "code",
   "execution_count": 6,
   "id": "15c0a08c",
   "metadata": {},
   "outputs": [],
   "source": [
    "# Define layers\n",
    "conv1 = nn.Conv2d(1, 6, 3, 1)\n",
    "conv2 = nn.Conv2d(6, 16, 3, 1)"
   ]
  },
  {
   "cell_type": "code",
   "execution_count": 7,
   "id": "6cf345be",
   "metadata": {},
   "outputs": [],
   "source": [
    "# Grab the first MNIST record\n",
    "for i, (X_train, y_train) in enumerate(train_data):\n",
    "    break"
   ]
  },
  {
   "cell_type": "code",
   "execution_count": 8,
   "id": "eb9bc9b5",
   "metadata": {},
   "outputs": [
    {
     "name": "stdout",
     "output_type": "stream",
     "text": [
      "torch.Size([1, 1, 28, 28])\n"
     ]
    }
   ],
   "source": [
    "# Create a rank-4 tensor to be passed into the model\n",
    "# (train_loader will have done this already)\n",
    "x = X_train.view(1,1,28,28)\n",
    "print(x.shape)"
   ]
  },
  {
   "cell_type": "code",
   "execution_count": 9,
   "id": "aa567747",
   "metadata": {},
   "outputs": [
    {
     "name": "stdout",
     "output_type": "stream",
     "text": [
      "torch.Size([1, 6, 26, 26])\n"
     ]
    }
   ],
   "source": [
    "# Perform the first convolution/activation\n",
    "x = F.relu(conv1(x))\n",
    "print(x.shape)"
   ]
  },
  {
   "cell_type": "code",
   "execution_count": 10,
   "id": "ac959c91",
   "metadata": {},
   "outputs": [
    {
     "name": "stdout",
     "output_type": "stream",
     "text": [
      "torch.Size([1, 6, 13, 13])\n"
     ]
    }
   ],
   "source": [
    "# Run the first pooling layer\n",
    "x = F.max_pool2d(x, 2, 2)\n",
    "print(x.shape)"
   ]
  },
  {
   "cell_type": "code",
   "execution_count": 11,
   "id": "25e3d34a",
   "metadata": {},
   "outputs": [
    {
     "name": "stdout",
     "output_type": "stream",
     "text": [
      "torch.Size([1, 16, 11, 11])\n"
     ]
    }
   ],
   "source": [
    "# Perform the second convolution/activation\n",
    "x = F.relu(conv2(x))\n",
    "print(x.shape)"
   ]
  },
  {
   "cell_type": "code",
   "execution_count": 12,
   "id": "2e198102",
   "metadata": {},
   "outputs": [
    {
     "name": "stdout",
     "output_type": "stream",
     "text": [
      "torch.Size([1, 16, 5, 5])\n"
     ]
    }
   ],
   "source": [
    "# Run the second pooling layer\n",
    "x = F.max_pool2d(x, 2, 2)\n",
    "print(x.shape)"
   ]
  },
  {
   "cell_type": "code",
   "execution_count": 13,
   "id": "f94ccaac",
   "metadata": {},
   "outputs": [
    {
     "name": "stdout",
     "output_type": "stream",
     "text": [
      "torch.Size([1, 400])\n"
     ]
    }
   ],
   "source": [
    "# Flatten the data\n",
    "x = x.view(-1, 5*5*16)\n",
    "print(x.shape)"
   ]
  },
  {
   "cell_type": "code",
   "execution_count": 14,
   "id": "e1a6b977",
   "metadata": {},
   "outputs": [],
   "source": [
    "class ConvolutionalNetwork(nn.Module):\n",
    "    def __init__(self):\n",
    "        super().__init__()\n",
    "        self.conv1 = nn.Conv2d(1, 6, 3, 1)\n",
    "        self.conv2 = nn.Conv2d(6, 16, 3, 1)\n",
    "        self.fc1 = nn.Linear(5*5*16, 120)\n",
    "        self.fc2 = nn.Linear(120, 84)\n",
    "        self.fc3 = nn.Linear(84,10)\n",
    "\n",
    "    def forward(self, X):\n",
    "        X = F.relu(self.conv1(X))\n",
    "        X = F.max_pool2d(X, 2, 2)\n",
    "        X = F.relu(self.conv2(X))\n",
    "        X = F.max_pool2d(X, 2, 2)\n",
    "        X = X.view(-1, 5*5*16)\n",
    "        X = F.relu(self.fc1(X))\n",
    "        X = F.relu(self.fc2(X))\n",
    "        X = self.fc3(X)\n",
    "        return F.log_softmax(X, dim=1)"
   ]
  },
  {
   "cell_type": "code",
   "execution_count": 15,
   "id": "9db4475c",
   "metadata": {},
   "outputs": [
    {
     "data": {
      "text/plain": [
       "ConvolutionalNetwork(\n",
       "  (conv1): Conv2d(1, 6, kernel_size=(3, 3), stride=(1, 1))\n",
       "  (conv2): Conv2d(6, 16, kernel_size=(3, 3), stride=(1, 1))\n",
       "  (fc1): Linear(in_features=400, out_features=120, bias=True)\n",
       "  (fc2): Linear(in_features=120, out_features=84, bias=True)\n",
       "  (fc3): Linear(in_features=84, out_features=10, bias=True)\n",
       ")"
      ]
     },
     "execution_count": 15,
     "metadata": {},
     "output_type": "execute_result"
    }
   ],
   "source": [
    "torch.manual_seed(42)\n",
    "model = ConvolutionalNetwork()\n",
    "model"
   ]
  },
  {
   "cell_type": "code",
   "execution_count": 16,
   "id": "a3ea7827",
   "metadata": {},
   "outputs": [],
   "source": [
    "def count_parameters(model):\n",
    "    params = [p.numel() for p in model.parameters() if p.requires_grad]\n",
    "    for item in params:\n",
    "        print(f'{item:>6}')\n",
    "    print(f'______\\n{sum(params):>6}')"
   ]
  },
  {
   "cell_type": "code",
   "execution_count": 17,
   "id": "46f083f2",
   "metadata": {},
   "outputs": [
    {
     "name": "stdout",
     "output_type": "stream",
     "text": [
      "    54\n",
      "     6\n",
      "   864\n",
      "    16\n",
      " 48000\n",
      "   120\n",
      " 10080\n",
      "    84\n",
      "   840\n",
      "    10\n",
      "______\n",
      " 60074\n"
     ]
    }
   ],
   "source": [
    "count_parameters(model)"
   ]
  },
  {
   "cell_type": "code",
   "execution_count": 18,
   "id": "714c46da",
   "metadata": {},
   "outputs": [],
   "source": [
    "criterion = nn.CrossEntropyLoss()\n",
    "optimizer = torch.optim.Adam(model.parameters(), lr=0.001)"
   ]
  },
  {
   "cell_type": "code",
   "execution_count": 19,
   "id": "ab25ca96",
   "metadata": {},
   "outputs": [
    {
     "name": "stdout",
     "output_type": "stream",
     "text": [
      "epoch:  0  batch:  600 [  6000/60000]  loss: 0.17883241  accuracy:  78.183%\n",
      "epoch:  0  batch: 1200 [ 12000/60000]  loss: 0.49433389  accuracy:  85.450%\n",
      "epoch:  0  batch: 1800 [ 18000/60000]  loss: 0.03291361  accuracy:  88.506%\n",
      "epoch:  0  batch: 2400 [ 24000/60000]  loss: 0.01735485  accuracy:  90.312%\n",
      "epoch:  0  batch: 3000 [ 30000/60000]  loss: 0.01159843  accuracy:  91.503%\n",
      "epoch:  0  batch: 3600 [ 36000/60000]  loss: 0.00983733  accuracy:  92.314%\n",
      "epoch:  0  batch: 4200 [ 42000/60000]  loss: 0.06082185  accuracy:  92.921%\n",
      "epoch:  0  batch: 4800 [ 48000/60000]  loss: 0.00094011  accuracy:  93.435%\n",
      "epoch:  0  batch: 5400 [ 54000/60000]  loss: 0.00046272  accuracy:  93.867%\n",
      "epoch:  0  batch: 6000 [ 60000/60000]  loss: 0.00477933  accuracy:  94.215%\n",
      "epoch:  1  batch:  600 [  6000/60000]  loss: 0.06566647  accuracy:  97.867%\n",
      "epoch:  1  batch: 1200 [ 12000/60000]  loss: 0.44500417  accuracy:  97.808%\n",
      "epoch:  1  batch: 1800 [ 18000/60000]  loss: 0.24273236  accuracy:  97.822%\n",
      "epoch:  1  batch: 2400 [ 24000/60000]  loss: 0.00042356  accuracy:  97.854%\n",
      "epoch:  1  batch: 3000 [ 30000/60000]  loss: 0.00102040  accuracy:  97.803%\n",
      "epoch:  1  batch: 3600 [ 36000/60000]  loss: 0.20526569  accuracy:  97.819%\n",
      "epoch:  1  batch: 4200 [ 42000/60000]  loss: 0.01467743  accuracy:  97.881%\n",
      "epoch:  1  batch: 4800 [ 48000/60000]  loss: 0.16316693  accuracy:  97.896%\n",
      "epoch:  1  batch: 5400 [ 54000/60000]  loss: 0.02927110  accuracy:  97.974%\n",
      "epoch:  1  batch: 6000 [ 60000/60000]  loss: 0.01227480  accuracy:  97.970%\n",
      "epoch:  2  batch:  600 [  6000/60000]  loss: 0.00331177  accuracy:  98.717%\n",
      "epoch:  2  batch: 1200 [ 12000/60000]  loss: 0.00118047  accuracy:  98.625%\n",
      "epoch:  2  batch: 1800 [ 18000/60000]  loss: 0.00076512  accuracy:  98.517%\n",
      "epoch:  2  batch: 2400 [ 24000/60000]  loss: 0.00041785  accuracy:  98.492%\n",
      "epoch:  2  batch: 3000 [ 30000/60000]  loss: 0.01166133  accuracy:  98.510%\n",
      "epoch:  2  batch: 3600 [ 36000/60000]  loss: 0.00039850  accuracy:  98.528%\n",
      "epoch:  2  batch: 4200 [ 42000/60000]  loss: 0.00162932  accuracy:  98.493%\n",
      "epoch:  2  batch: 4800 [ 48000/60000]  loss: 0.00032029  accuracy:  98.496%\n",
      "epoch:  2  batch: 5400 [ 54000/60000]  loss: 0.00216831  accuracy:  98.561%\n",
      "epoch:  2  batch: 6000 [ 60000/60000]  loss: 0.00037932  accuracy:  98.590%\n",
      "epoch:  3  batch:  600 [  6000/60000]  loss: 0.02423660  accuracy:  98.883%\n",
      "epoch:  3  batch: 1200 [ 12000/60000]  loss: 0.00872400  accuracy:  98.800%\n",
      "epoch:  3  batch: 1800 [ 18000/60000]  loss: 0.01646736  accuracy:  98.678%\n",
      "epoch:  3  batch: 2400 [ 24000/60000]  loss: 0.00090716  accuracy:  98.725%\n",
      "epoch:  3  batch: 3000 [ 30000/60000]  loss: 0.00001155  accuracy:  98.773%\n",
      "epoch:  3  batch: 3600 [ 36000/60000]  loss: 0.00321447  accuracy:  98.769%\n",
      "epoch:  3  batch: 4200 [ 42000/60000]  loss: 0.00762198  accuracy:  98.764%\n",
      "epoch:  3  batch: 4800 [ 48000/60000]  loss: 0.02196258  accuracy:  98.812%\n",
      "epoch:  3  batch: 5400 [ 54000/60000]  loss: 0.00643397  accuracy:  98.831%\n",
      "epoch:  3  batch: 6000 [ 60000/60000]  loss: 0.00022582  accuracy:  98.800%\n",
      "epoch:  4  batch:  600 [  6000/60000]  loss: 0.00224823  accuracy:  99.200%\n",
      "epoch:  4  batch: 1200 [ 12000/60000]  loss: 0.04990318  accuracy:  99.025%\n",
      "epoch:  4  batch: 1800 [ 18000/60000]  loss: 0.00043895  accuracy:  99.089%\n",
      "epoch:  4  batch: 2400 [ 24000/60000]  loss: 0.00002835  accuracy:  99.112%\n",
      "epoch:  4  batch: 3000 [ 30000/60000]  loss: 0.00238082  accuracy:  99.073%\n",
      "epoch:  4  batch: 3600 [ 36000/60000]  loss: 0.00029214  accuracy:  99.067%\n",
      "epoch:  4  batch: 4200 [ 42000/60000]  loss: 0.00044892  accuracy:  99.062%\n",
      "epoch:  4  batch: 4800 [ 48000/60000]  loss: 0.00185263  accuracy:  99.062%\n",
      "epoch:  4  batch: 5400 [ 54000/60000]  loss: 0.47050446  accuracy:  99.078%\n",
      "epoch:  4  batch: 6000 [ 60000/60000]  loss: 0.00503337  accuracy:  99.055%\n",
      "\n",
      "Duration: 276 seconds\n"
     ]
    }
   ],
   "source": [
    "import time\n",
    "start_time = time.time()\n",
    "\n",
    "epochs = 5\n",
    "train_losses = []\n",
    "test_losses = []\n",
    "train_correct = []\n",
    "test_correct = []\n",
    "\n",
    "for i in range(epochs):\n",
    "    trn_corr = 0\n",
    "    tst_corr = 0\n",
    "    \n",
    "    # Run the training batches\n",
    "    for b, (X_train, y_train) in enumerate(train_loader):\n",
    "        b+=1\n",
    "        \n",
    "        # Apply the model\n",
    "        y_pred = model(X_train)  # we don't flatten X-train here\n",
    "        loss = criterion(y_pred, y_train)\n",
    " \n",
    "        # Tally the number of correct predictions\n",
    "        predicted = torch.max(y_pred.data, 1)[1]\n",
    "        batch_corr = (predicted == y_train).sum()\n",
    "        trn_corr += batch_corr\n",
    "        \n",
    "        # Update parameters\n",
    "        optimizer.zero_grad()\n",
    "        loss.backward()\n",
    "        optimizer.step()\n",
    "        \n",
    "        # Print interim results\n",
    "        if b%600 == 0:\n",
    "            print(f'epoch: {i:2}  batch: {b:4} [{10*b:6}/60000]  loss: {loss.item():10.8f}  \\\n",
    "accuracy: {trn_corr.item()*100/(10*b):7.3f}%')\n",
    "        \n",
    "    train_losses.append(loss)\n",
    "    train_correct.append(trn_corr)\n",
    "        \n",
    "    # Run the testing batches\n",
    "    with torch.no_grad():\n",
    "        for b, (X_test, y_test) in enumerate(test_loader):\n",
    "\n",
    "            # Apply the model\n",
    "            y_val = model(X_test)\n",
    "\n",
    "            # Tally the number of correct predictions\n",
    "            predicted = torch.max(y_val.data, 1)[1] \n",
    "            tst_corr += (predicted == y_test).sum()\n",
    "            \n",
    "    loss = criterion(y_val, y_test)\n",
    "    test_losses.append(loss)\n",
    "    test_correct.append(tst_corr)\n",
    "        \n",
    "print(f'\\nDuration: {time.time() - start_time:.0f} seconds') # print the time elapsed            "
   ]
  },
  {
   "cell_type": "code",
   "execution_count": null,
   "id": "dd672285",
   "metadata": {},
   "outputs": [],
   "source": [
    "plt.plot(train_losses, label='training loss')\n",
    "plt.plot(test_losses, label='validation loss')\n",
    "plt.title('Loss at the end of each epoch')\n",
    "plt.legend();"
   ]
  },
  {
   "cell_type": "code",
   "execution_count": null,
   "id": "32d68f2e",
   "metadata": {},
   "outputs": [],
   "source": [
    "plt.plot([t/600 for t in train_correct], label='training accuracy')\n",
    "plt.plot([t/100 for t in test_correct], label='validation accuracy')\n",
    "plt.title('Accuracy at the end of each epoch')\n",
    "plt.legend();"
   ]
  },
  {
   "cell_type": "code",
   "execution_count": null,
   "id": "f0ab03f5",
   "metadata": {},
   "outputs": [],
   "source": [
    "# Extract the data all at once, not in batches\n",
    "test_load_all = DataLoader(test_data, batch_size=10000, shuffle=False)"
   ]
  },
  {
   "cell_type": "code",
   "execution_count": null,
   "id": "51942b38",
   "metadata": {},
   "outputs": [],
   "source": [
    "with torch.no_grad():\n",
    "    correct = 0\n",
    "    for X_test, y_test in test_load_all:\n",
    "        y_val = model(X_test)  # we don't flatten the data this time\n",
    "        predicted = torch.max(y_val,1)[1]\n",
    "        correct += (predicted == y_test).sum()\n",
    "print(f'Test accuracy: {correct.item()}/{len(test_data)} = {correct.item()*100/(len(test_data)):7.3f}%')"
   ]
  },
  {
   "cell_type": "code",
   "execution_count": null,
   "id": "0751ebe2",
   "metadata": {},
   "outputs": [],
   "source": [
    "# print a row of values for reference\n",
    "np.set_printoptions(formatter=dict(int=lambda x: f'{x:4}'))\n",
    "print(np.arange(10).reshape(1,10))\n",
    "print()\n",
    "\n",
    "# print the confusion matrix\n",
    "print(confusion_matrix(predicted.view(-1), y_test.view(-1)))"
   ]
  },
  {
   "cell_type": "code",
   "execution_count": null,
   "id": "14e5d088",
   "metadata": {},
   "outputs": [],
   "source": [
    "misses = np.array([])\n",
    "for i in range(len(predicted.view(-1))):\n",
    "    if predicted[i] != y_test[i]:\n",
    "        misses = np.append(misses,i).astype('int64')\n",
    "        \n",
    "# Display the number of misses\n",
    "len(misses)"
   ]
  },
  {
   "cell_type": "code",
   "execution_count": null,
   "id": "393e3e4e",
   "metadata": {},
   "outputs": [],
   "source": [
    "# Set up an iterator to feed batched rows\n",
    "r = 12   # row size\n",
    "row = iter(np.array_split(misses,len(misses)//r+1))"
   ]
  },
  {
   "cell_type": "code",
   "execution_count": null,
   "id": "2450c9e5",
   "metadata": {},
   "outputs": [],
   "source": [
    "nextrow = next(row)\n",
    "print(\"Index:\", nextrow)\n",
    "print(\"Label:\", y_test.index_select(0,torch.tensor(nextrow)).numpy())\n",
    "print(\"Guess:\", predicted.index_select(0,torch.tensor(nextrow)).numpy())\n",
    "\n",
    "images = X_test.index_select(0,torch.tensor(nextrow))\n",
    "im = make_grid(images, nrow=r)\n",
    "plt.figure(figsize=(10,4))\n",
    "plt.imshow(np.transpose(im.numpy(), (1, 2, 0)));"
   ]
  },
  {
   "cell_type": "code",
   "execution_count": null,
   "id": "ae0e9a5c",
   "metadata": {},
   "outputs": [],
   "source": [
    "x = 2019\n",
    "plt.figure(figsize=(1,1))\n",
    "plt.imshow(test_data[x][0].reshape((28,28)), cmap=\"gist_yarg\");"
   ]
  },
  {
   "cell_type": "code",
   "execution_count": null,
   "id": "8795a554",
   "metadata": {},
   "outputs": [],
   "source": [
    "model.eval()\n",
    "with torch.no_grad():\n",
    "    new_pred = model(test_data[x][0].view(1,1,28,28)).argmax()\n",
    "print(\"Predicted value:\",new_pred.item())"
   ]
  }
 ],
 "metadata": {
  "kernelspec": {
   "display_name": "ann",
   "language": "python",
   "name": "ann"
  },
  "language_info": {
   "codemirror_mode": {
    "name": "ipython",
    "version": 3
   },
   "file_extension": ".py",
   "mimetype": "text/x-python",
   "name": "python",
   "nbconvert_exporter": "python",
   "pygments_lexer": "ipython3",
   "version": "3.7.3"
  }
 },
 "nbformat": 4,
 "nbformat_minor": 5
}
